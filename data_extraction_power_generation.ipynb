{
  "nbformat": 4,
  "nbformat_minor": 0,
  "metadata": {
    "kernelspec": {
      "name": "python3",
      "display_name": "Python 3",
      "language": "python"
    },
    "language_info": {
      "name": "python",
      "version": "3.7.6",
      "mimetype": "text/x-python",
      "codemirror_mode": {
        "name": "ipython",
        "version": 3
      },
      "pygments_lexer": "ipython3",
      "nbconvert_exporter": "python",
      "file_extension": ".py"
    },
    "colab": {
      "name": "data-extraction.ipynb",
      "provenance": [],
      "include_colab_link": true
    }
  },
  "cells": [
    {
      "cell_type": "markdown",
      "metadata": {
        "id": "view-in-github",
        "colab_type": "text"
      },
      "source": [
        "<a href=\"https://colab.research.google.com/github/NavinMundhra/XX_Data_Extraction_Scripts/blob/master/data_extraction_power_generation.ipynb\" target=\"_parent\"><img src=\"https://colab.research.google.com/assets/colab-badge.svg\" alt=\"Open In Colab\"/></a>"
      ]
    },
    {
      "cell_type": "markdown",
      "metadata": {
        "id": "RInTuRgUtU2F",
        "colab_type": "text"
      },
      "source": [
        "## Below is my code for extraction of dataset '[Power Generation in India](https://www.kaggle.com/navinmundhra/daily-power-generation-in-india-20172020)'. Check out the dataset [here](https://www.kaggle.com/navinmundhra/daily-power-generation-in-india-20172020).\n"
      ]
    },
    {
      "cell_type": "code",
      "metadata": {
        "_uuid": "8f2839f25d086af736a60e9eeb907d3b93b6e0e5",
        "_cell_guid": "b1076dfc-b9ad-4769-8c92-a6c4dae69d19",
        "trusted": true,
        "_kg_hide-input": false,
        "_kg_hide-output": false,
        "id": "bTMRk4UEtU2G",
        "colab_type": "code",
        "colab": {},
        "outputId": "07b6fb05-fc10-4118-8427-68bccf3176d9"
      },
      "source": [
        "import numpy as np\n",
        "import pandas as pd\n",
        "! pip install tabula-py\n",
        "import tabula as tb\n",
        "from scipy import stats\n",
        "import datetime as dt"
      ],
      "execution_count": null,
      "outputs": [
        {
          "output_type": "stream",
          "text": [
            "Collecting tabula-py\n",
            "  Downloading tabula_py-2.1.1-py3-none-any.whl (10.4 MB)\n",
            "\u001b[K     |████████████████████████████████| 10.4 MB 4.2 MB/s eta 0:00:01\n",
            "\u001b[?25hRequirement already satisfied: pandas>=0.25.3 in /opt/conda/lib/python3.7/site-packages (from tabula-py) (1.0.3)\n",
            "Requirement already satisfied: numpy in /opt/conda/lib/python3.7/site-packages (from tabula-py) (1.18.1)\n",
            "Collecting distro\n",
            "  Downloading distro-1.5.0-py2.py3-none-any.whl (18 kB)\n",
            "Requirement already satisfied: pytz>=2017.2 in /opt/conda/lib/python3.7/site-packages (from pandas>=0.25.3->tabula-py) (2019.3)\n",
            "Requirement already satisfied: python-dateutil>=2.6.1 in /opt/conda/lib/python3.7/site-packages (from pandas>=0.25.3->tabula-py) (2.8.1)\n",
            "Requirement already satisfied: six>=1.5 in /opt/conda/lib/python3.7/site-packages (from python-dateutil>=2.6.1->pandas>=0.25.3->tabula-py) (1.14.0)\n",
            "Installing collected packages: distro, tabula-py\n",
            "Successfully installed distro-1.5.0 tabula-py-2.1.1\n"
          ],
          "name": "stdout"
        }
      ]
    },
    {
      "cell_type": "code",
      "metadata": {
        "_uuid": "d629ff2d2480ee46fbb7e2d37f6b5fab8052498a",
        "_cell_guid": "79c7e3d0-c299-4dcb-8224-4455121ee9b0",
        "trusted": true,
        "_kg_hide-input": true,
        "id": "_i5kOi5PtU2L",
        "colab_type": "code",
        "colab": {}
      },
      "source": [
        "datapath = '../input/daily-power-generation-in-india-20172020'"
      ],
      "execution_count": null,
      "outputs": []
    },
    {
      "cell_type": "markdown",
      "metadata": {
        "id": "RbB1QrcTtU2P",
        "colab_type": "text"
      },
      "source": [
        ">## GENERATING LIST OF DATES FROM 2017-09-01 (yyyy-mm-dd) TO LATEST AVAILABLE DATE OF DATA\n"
      ]
    },
    {
      "cell_type": "code",
      "metadata": {
        "trusted": true,
        "id": "j0mCKO0vtU2Q",
        "colab_type": "code",
        "colab": {}
      },
      "source": [
        "base = dt.datetime(2017,9,1) ## 1st September, 2017\n",
        "end = dt.datetime(2020,3,18) ## 18th March, 2020 \n",
        "\n",
        "numdays = (end-base).days\n",
        "date_list = [str((base + dt.timedelta(days=x)).date()) for x in range(numdays+1)] ## list of dates sorted from start to the end date\n",
        "\n",
        "def rev(currdate):\n",
        "    currdate = currdate.split('-'); currdate = str(currdate[-1]+'-'+currdate[1]+'-'+currdate[0])\n",
        "    return currdate\n",
        "\n",
        "# date_list"
      ],
      "execution_count": null,
      "outputs": []
    },
    {
      "cell_type": "markdown",
      "metadata": {
        "id": "UCH4h5NbtU2S",
        "colab_type": "text"
      },
      "source": [
        ">## PRINTING THE TOTAL NUMBER OF FILES"
      ]
    },
    {
      "cell_type": "code",
      "metadata": {
        "trusted": true,
        "id": "MJumzccmtU2T",
        "colab_type": "code",
        "colab": {},
        "outputId": "3c54ff9f-f479-408b-b891-6f7f64bc62b3"
      },
      "source": [
        "numdays"
      ],
      "execution_count": null,
      "outputs": [
        {
          "output_type": "execute_result",
          "data": {
            "text/plain": [
              "929"
            ]
          },
          "metadata": {
            "tags": []
          },
          "execution_count": 4
        }
      ]
    },
    {
      "cell_type": "markdown",
      "metadata": {
        "id": "xrVmYLhDtU2W",
        "colab_type": "text"
      },
      "source": [
        "\n",
        ">## CREATING THE FRAME FOR FINAL DATAFRAME\n"
      ]
    },
    {
      "cell_type": "code",
      "metadata": {
        "trusted": true,
        "id": "oJDQL8ELtU2W",
        "colab_type": "code",
        "colab": {},
        "outputId": "49159288-a395-46ce-ee5a-ceeb0593e6d6"
      },
      "source": [
        "finaldf = pd.DataFrame()\n",
        "finaldf.insert(0, 'Date', 'NaN')\n",
        "finaldf.insert(1, 'Hydro Generation Estimated (in MU)', 'NaN')\n",
        "finaldf.insert(1, 'Hydro Generation Actual (in MU)', 'NaN')\n",
        "finaldf.insert(1, 'Nuclear Generation Estimated (in MU)', 'NaN')\n",
        "finaldf.insert(1, 'Nuclear Generation Actual (in MU)', 'NaN')\n",
        "finaldf.insert(1, 'Thermal Generation Estimated (in MU)', 'NaN')\n",
        "finaldf.insert(1, 'Thermal Generation Actual (in MU)', 'NaN')\n",
        "finaldf.insert(1, 'Region', 'NaN')\n",
        "\n",
        "s, f = 0, 129\n",
        "notavailable = []\n",
        "\n",
        "finaldf"
      ],
      "execution_count": null,
      "outputs": [
        {
          "output_type": "execute_result",
          "data": {
            "text/plain": [
              "Empty DataFrame\n",
              "Columns: [Date, Region, Thermal Generation Actual (in MU), Thermal Generation Estimated (in MU), Nuclear Generation Actual (in MU), Nuclear Generation Estimated (in MU), Hydro Generation Actual (in MU), Hydro Generation Estimated (in MU)]\n",
              "Index: []"
            ],
            "text/html": [
              "<div>\n",
              "<style scoped>\n",
              "    .dataframe tbody tr th:only-of-type {\n",
              "        vertical-align: middle;\n",
              "    }\n",
              "\n",
              "    .dataframe tbody tr th {\n",
              "        vertical-align: top;\n",
              "    }\n",
              "\n",
              "    .dataframe thead th {\n",
              "        text-align: right;\n",
              "    }\n",
              "</style>\n",
              "<table border=\"1\" class=\"dataframe\">\n",
              "  <thead>\n",
              "    <tr style=\"text-align: right;\">\n",
              "      <th></th>\n",
              "      <th>Date</th>\n",
              "      <th>Region</th>\n",
              "      <th>Thermal Generation Actual (in MU)</th>\n",
              "      <th>Thermal Generation Estimated (in MU)</th>\n",
              "      <th>Nuclear Generation Actual (in MU)</th>\n",
              "      <th>Nuclear Generation Estimated (in MU)</th>\n",
              "      <th>Hydro Generation Actual (in MU)</th>\n",
              "      <th>Hydro Generation Estimated (in MU)</th>\n",
              "    </tr>\n",
              "  </thead>\n",
              "  <tbody>\n",
              "  </tbody>\n",
              "</table>\n",
              "</div>"
            ]
          },
          "metadata": {
            "tags": []
          },
          "execution_count": 13
        }
      ]
    },
    {
      "cell_type": "markdown",
      "metadata": {
        "id": "uI54WsDUtU2Z",
        "colab_type": "text"
      },
      "source": [
        ">## GETTING THE PDF REPORT AND SCRAPING THE DATA FROM IT"
      ]
    },
    {
      "cell_type": "code",
      "metadata": {
        "trusted": true,
        "id": "Nlc8xnZntU2a",
        "colab_type": "code",
        "colab": {}
      },
      "source": [
        "for t in range(numdays):\n",
        "    ## GETTING THE DATE FOR WHICH WE NEED TO GET THE REPORT FOR\n",
        "    currdate = date_list[t]\n",
        "    ## CREATING THE LINK\n",
        "    link1 = 'https://npp.gov.in/public-reports/cea/daily/dgr/{}/dgr1-{}.pdf'.format(rev(currdate), currdate)\n",
        "    ## TRY OPENING AND READING THE DATA. IF \"HTMLERROR\" i.e. FILE DOES NOT EXIST(NATIONAL HOLIDAY), STORE THE DATE IN A LIST\n",
        "    try:\n",
        "        df = tb.read_pdf(link1, stream=False)[0]\n",
        "    except:\n",
        "        notavailable.append(currdate)\n",
        "        continue\n",
        "        \n",
        "    def getdata(region, val):\n",
        "        \"\"\"    UTILITY FUNCTION TO EXTRACT CERTAIN ROWS FOR DATA. RETURNS A LIST FOR THE  \"\"\"\n",
        "        temp = list()\n",
        "        temp.append(currdate)\n",
        "        df.iloc[:,0] = df.iloc[:,0].apply(lambda x: x.replace(\" \", \"\")if type(x)!=float else x)\n",
        "        ind = df[df.iloc[:,0]==region].index[0]\n",
        "        temp.append(df.iloc[ind, 0]) \n",
        "        temp.extend(df.iloc[ind+1:ind+1+val,4:6].transpose().reset_index(drop=True).melt()['value'].to_list())\n",
        "        return temp\n",
        "    \n",
        "    ## GETTING ROW-WISE DATA FOR REGIONS\n",
        "    north = getdata('Northern', 3)\n",
        "    west = getdata('Western', 3)\n",
        "    south = getdata('Southern', 3)\n",
        "    east = getdata('Eastern', 2); east.insert(4, 'NaN'); east.insert(4, 'NaN')\n",
        "    neast = getdata('NorthEastern', 2); neast.insert(4, 'NaN'); neast.insert(4, 'NaN')\n",
        "    \n",
        "    ## INSERTING THE RESULTS IN THE TEMPLATE OF FINAL DATAFRAME CREATED\n",
        "    finaldf = finaldf.append(pd.Series(north, index=finaldf.columns), ignore_index=True)\n",
        "    finaldf = finaldf.append(pd.Series(west, index=finaldf.columns), ignore_index=True)\n",
        "    finaldf = finaldf.append(pd.Series(south, index=finaldf.columns), ignore_index=True)\n",
        "    finaldf = finaldf.append(pd.Series(east, index=finaldf.columns), ignore_index=True)\n",
        "    finaldf = finaldf.append(pd.Series(neast, index=finaldf.columns), ignore_index=True)\n",
        "    \n",
        "finaldf.to_csv(datapath+'/file.csv', index=False)"
      ],
      "execution_count": null,
      "outputs": []
    },
    {
      "cell_type": "markdown",
      "metadata": {
        "id": "DzWQ-IiEtU2d",
        "colab_type": "text"
      },
      "source": [
        ">### DATES FOR WHICH REPORT IS NOT AVAILABLE\n"
      ]
    },
    {
      "cell_type": "code",
      "metadata": {
        "trusted": true,
        "id": "zoyyC1JetU2e",
        "colab_type": "code",
        "colab": {},
        "outputId": "2859bc0a-f17e-449a-beb2-4fe05eab24e0"
      },
      "source": [
        "notavailable "
      ],
      "execution_count": null,
      "outputs": [
        {
          "output_type": "execute_result",
          "data": {
            "text/plain": [
              "['2017-10-02', '2018-08-31']"
            ]
          },
          "metadata": {
            "tags": []
          },
          "execution_count": 10
        }
      ]
    },
    {
      "cell_type": "markdown",
      "metadata": {
        "id": "Hh04lAMitU2h",
        "colab_type": "text"
      },
      "source": [
        ">### DOWNLOADING THE DATASET"
      ]
    },
    {
      "cell_type": "code",
      "metadata": {
        "trusted": true,
        "id": "vk1CL2dktU2i",
        "colab_type": "code",
        "colab": {},
        "outputId": "11f5f282-5f8c-4fcd-eed6-d88e5c146c79"
      },
      "source": [
        "import IPython.display as ipd\n",
        "\n",
        "ipd.FileLink(datapath+'/file.csv')"
      ],
      "execution_count": null,
      "outputs": [
        {
          "output_type": "execute_result",
          "data": {
            "text/plain": [
              "/kaggle/input/daily-power-generation-in-india-20172020/file.csv"
            ],
            "text/html": [
              "<a href='../input/daily-power-generation-in-india-20172020/file.csv' target='_blank'>../input/daily-power-generation-in-india-20172020/file.csv</a><br>"
            ]
          },
          "metadata": {
            "tags": []
          },
          "execution_count": 12
        }
      ]
    },
    {
      "cell_type": "markdown",
      "metadata": {
        "id": "gHsJXukytU2k",
        "colab_type": "text"
      },
      "source": [
        "# HAPPY CODING! I HOPE YOU LIKED THIS SHORT TUTORIAL! \n",
        "\n",
        "## UPVOTE | SHARE | COMMENT | CONNECT | CHEERS\n",
        "### CHECK OUT [MY NOTEBOOKS](https://www.kaggle.com/navinmundhra/notebooks) IN WHICH I COVER TOPICS EXTENSIVELY. THANK YOU :)"
      ]
    },
    {
      "cell_type": "markdown",
      "metadata": {
        "id": "mhIvg_4WtU2l",
        "colab_type": "text"
      },
      "source": [
        "## References:\n",
        "* [Python documentation](https://docs.python.org/3/library/datetime.html) for datetime handling\n",
        "* [Tabula documentation](https://tabula-py.readthedocs.io/en/latest/)"
      ]
    }
  ]
}